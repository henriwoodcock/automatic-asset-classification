{
  "nbformat": 4,
  "nbformat_minor": 0,
  "metadata": {
    "colab": {
      "name": "pretraining-autoencoders4.ipynb",
      "provenance": [],
      "collapsed_sections": []
    },
    "kernelspec": {
      "name": "python3",
      "display_name": "Python 3"
    },
    "accelerator": "GPU"
  },
  "cells": [
    {
      "cell_type": "code",
      "metadata": {
        "id": "NtDCq_ezLPOE",
        "colab_type": "code",
        "colab": {}
      },
      "source": [
        "from fastai import *\n",
        "from fastai.tabular import *\n",
        "import pandas as pd\n",
        "from torchsummary import summary\n",
        "import torch\n",
        "from torch import nn\n",
        "import imageio\n",
        "import torch\n",
        "import glob\n",
        "from fastai.vision import *\n",
        "import os\n",
        "from torch import nn\n",
        "import torch.nn.functional as F\n",
        "import numpy as np"
      ],
      "execution_count": 0,
      "outputs": []
    },
    {
      "cell_type": "code",
      "metadata": {
        "id": "qzikxGRrLahM",
        "colab_type": "code",
        "colab": {
          "base_uri": "https://localhost:8080/",
          "height": 156
        },
        "outputId": "47d72ce3-bdfe-4fde-b38c-4d6c0d92a349"
      },
      "source": [
        "from google.colab import drive\n",
        "drive.mount('/content/drive', force_remount = False)\n",
        "%cd \"/content/drive/My Drive/automatic-asset-classification\"\n",
        "%ls \"/content/drive/My Drive/automatic-asset-classification\""
      ],
      "execution_count": 2,
      "outputs": [
        {
          "output_type": "stream",
          "text": [
            "Go to this URL in a browser: https://accounts.google.com/o/oauth2/auth?client_id=947318989803-6bn6qk8qdgf4n4g3pfee6491hc0brc4i.apps.googleusercontent.com&redirect_uri=urn%3aietf%3awg%3aoauth%3a2.0%3aoob&response_type=code&scope=email%20https%3a%2f%2fwww.googleapis.com%2fauth%2fdocs.test%20https%3a%2f%2fwww.googleapis.com%2fauth%2fdrive%20https%3a%2f%2fwww.googleapis.com%2fauth%2fdrive.photos.readonly%20https%3a%2f%2fwww.googleapis.com%2fauth%2fpeopleapi.readonly\n",
            "\n",
            "Enter your authorization code:\n",
            "··········\n",
            "Mounted at /content/drive\n",
            "/content/drive/My Drive/automatic-asset-classification\n",
            "\u001b[0m\u001b[01;34mdata\u001b[0m/\n"
          ],
          "name": "stdout"
        }
      ]
    },
    {
      "cell_type": "code",
      "metadata": {
        "id": "IvtOYWDVLc9e",
        "colab_type": "code",
        "colab": {}
      },
      "source": [
        "np.random.seed(3333)\n",
        "torch.manual_seed(3333)\n",
        "image_path = \"/content/drive/My Drive/automatic-asset-classification/data/final_dataset\"\n",
        "size = 224\n",
        "batchsize = 32\n",
        "\n",
        "tfms = get_transforms(do_flip = True)\n",
        "src = (ImageImageList.from_folder(image_path).split_by_rand_pct().label_from_func(lambda x: x))\n",
        "data = (src.transform(tfms, size=size, tfm_y=True)\n",
        "        .databunch(bs=batchsize)\n",
        "        .normalize(imagenet_stats, do_y = False))"
      ],
      "execution_count": 0,
      "outputs": []
    },
    {
      "cell_type": "code",
      "metadata": {
        "id": "BbLHsP0XLf-q",
        "colab_type": "code",
        "colab": {}
      },
      "source": [
        "class AutoEncoder(nn.Module):\n",
        "\n",
        "    def __init__(self):\n",
        "        super(AutoEncoder, self).__init__()\n",
        "\n",
        "        self.encoder = nn.Sequential(\n",
        "            nn.Conv2d(3, 64, kernel_size=(7, 7), stride=(2, 2), padding=(3, 3), bias=False),\n",
        "            nn.BatchNorm2d(64, eps=1e-05, momentum=0.1, affine=True, track_running_stats=True),\n",
        "            nn.ReLU(inplace=True)\n",
        "        )\n",
        "\n",
        "        self.decoder = nn.Sequential(\n",
        "            nn.Upsample(scale_factor = 2, mode = 'bilinear'),\n",
        "            nn.Conv2d(64, 3, kernel_size=(3, 3), stride=(1, 1), padding=(1, 1), bias=False),\n",
        "            nn.ReLU(inplace=True)\n",
        "        )\n",
        "        \n",
        "    def encode(self,x): return self.encoder(x)\n",
        "    \n",
        "    def decode(self,x): return torch.clamp(self.decoder(x), min = 0, max=1)\n",
        "        \n",
        "\n",
        "    def forward(self, x):\n",
        "        encoded = self.encoder(x)\n",
        "        decoded = self.decoder(encoded)\n",
        "        return torch.clamp(decoded, min=0, max=1)"
      ],
      "execution_count": 0,
      "outputs": []
    },
    {
      "cell_type": "code",
      "metadata": {
        "id": "ISjEXzh0Lmkd",
        "colab_type": "code",
        "colab": {}
      },
      "source": [
        "autoencoder = AutoEncoder()\n",
        "learn = Learner(data, autoencoder, loss_func=F.mse_loss);\n",
        "learn = learn.load('ae_12_31_3_2020')"
      ],
      "execution_count": 0,
      "outputs": []
    },
    {
      "cell_type": "code",
      "metadata": {
        "id": "DwfquGmRLotm",
        "colab_type": "code",
        "colab": {}
      },
      "source": [
        "train_batches = [item[0] for item in iter(data.train_dl)]\n",
        "valid_batches = [item[0] for item in iter(data.valid_dl)]"
      ],
      "execution_count": 0,
      "outputs": []
    },
    {
      "cell_type": "code",
      "metadata": {
        "id": "DEH22HTuLrhu",
        "colab_type": "code",
        "colab": {}
      },
      "source": [
        "autoencoder.eval()\n",
        "encoded_train_batches = [];\n",
        "encoded_valid_batches = [];\n",
        "\n",
        "with torch.no_grad():\n",
        "\n",
        "  for train in train_batches:\n",
        "    encoded_train = autoencoder.encode(train);\n",
        "    encoded_train_batches.append(encoded_train);\n",
        "  \n",
        "  for valid in valid_batches:\n",
        "    encoded_valid = autoencoder.encode(valid);\n",
        "    encoded_valid_batches.append(encoded_valid);"
      ],
      "execution_count": 0,
      "outputs": []
    },
    {
      "cell_type": "code",
      "metadata": {
        "id": "DUQImVqRLtbi",
        "colab_type": "code",
        "colab": {}
      },
      "source": [
        "del train_batches\n",
        "del valid_batches\n",
        "del data\n",
        "del src\n",
        "del autoencoder\n",
        "del learn"
      ],
      "execution_count": 0,
      "outputs": []
    },
    {
      "cell_type": "markdown",
      "metadata": {
        "id": "1QgLVdTIMSFF",
        "colab_type": "text"
      },
      "source": [
        "# Autoencoder - Layer 2"
      ]
    },
    {
      "cell_type": "code",
      "metadata": {
        "id": "iRH6N7c0LvWa",
        "colab_type": "code",
        "colab": {}
      },
      "source": [
        "class AutoEncoder2(nn.Module):\n",
        "    def __init__(self):\n",
        "        super(AutoEncoder2, self).__init__()\n",
        "        self.encoder = nn.Sequential(\n",
        "            nn.Conv2d(64, 112, kernel_size=(7, 7), stride=(2, 2), padding=(3, 3), bias=False),\n",
        "            nn.BatchNorm2d(112, eps=1e-05, momentum=0.1, affine=True, track_running_stats=True),\n",
        "            nn.ReLU(inplace=True)\n",
        "        )\n",
        "        self.decoder = nn.Sequential(\n",
        "            nn.Upsample(scale_factor = 2, mode = 'bilinear'),\n",
        "            nn.Conv2d(112, 64, kernel_size=(3, 3), stride=(1, 1), padding=(1, 1), bias=False),\n",
        "            nn.Tanh()\n",
        "        )\n",
        "    def encode(self,x): return self.encoder(x)\n",
        "    def decode(self,x): return self.decoder(x)\n",
        "    def forward(self, x):\n",
        "        encoded = self.encoder(x)\n",
        "        decoded = self.decoder(encoded)\n",
        "        return decoded"
      ],
      "execution_count": 0,
      "outputs": []
    },
    {
      "cell_type": "markdown",
      "metadata": {
        "id": "gVPRjXfUSRw3",
        "colab_type": "text"
      },
      "source": [
        "Create the training data which is the encoded output from the first autoencoder."
      ]
    },
    {
      "cell_type": "code",
      "metadata": {
        "id": "kA_9eDxuSHAJ",
        "colab_type": "code",
        "colab": {
          "base_uri": "https://localhost:8080/",
          "height": 68
        },
        "outputId": "1973eaae-a273-4bb0-e08b-cfbc7e4c6d82"
      },
      "source": [
        "encoded_train_batches = torch.cat([batch.cpu() for batch in encoded_train_batches])\n",
        "encoded_valid_batches = torch.cat([batch.cpu() for batch in encoded_valid_batches])\n",
        "print(encoded_train_batches.shape), print(encoded_valid_batches.shape)"
      ],
      "execution_count": 10,
      "outputs": [
        {
          "output_type": "stream",
          "text": [
            "torch.Size([384, 64, 112, 112])\n",
            "torch.Size([96, 64, 112, 112])\n"
          ],
          "name": "stdout"
        },
        {
          "output_type": "execute_result",
          "data": {
            "text/plain": [
              "(None, None)"
            ]
          },
          "metadata": {
            "tags": []
          },
          "execution_count": 10
        }
      ]
    },
    {
      "cell_type": "markdown",
      "metadata": {
        "id": "-_pGwY5iS7Or",
        "colab_type": "text"
      },
      "source": [
        "Define the parameters."
      ]
    },
    {
      "cell_type": "code",
      "metadata": {
        "id": "UaDbR9aISXEj",
        "colab_type": "code",
        "colab": {}
      },
      "source": [
        "bs = 32\n",
        "epoch = 100"
      ],
      "execution_count": 0,
      "outputs": []
    },
    {
      "cell_type": "markdown",
      "metadata": {
        "id": "n4nwPUgTS-fE",
        "colab_type": "text"
      },
      "source": [
        "Training loop:"
      ]
    },
    {
      "cell_type": "code",
      "metadata": {
        "id": "tfv4F7RYTVlh",
        "colab_type": "code",
        "colab": {}
      },
      "source": [
        "autoencoder2 = AutoEncoder2()"
      ],
      "execution_count": 0,
      "outputs": []
    },
    {
      "cell_type": "code",
      "metadata": {
        "id": "U-GJshCXVAxI",
        "colab_type": "code",
        "colab": {}
      },
      "source": [
        "class encoderDataset():\n",
        "  def __init__(self, x): self.x,self.y = x,x\n",
        "  def __len__(self): return len(self.x)\n",
        "  def __getitem__(self, i): return self.x[i],self.y[i]"
      ],
      "execution_count": 0,
      "outputs": []
    },
    {
      "cell_type": "code",
      "metadata": {
        "id": "BDDSVqGYVQ92",
        "colab_type": "code",
        "colab": {}
      },
      "source": [
        "train_ds,valid_ds = encoderDataset(encoded_train_batches),encoderDataset(encoded_valid_batches)"
      ],
      "execution_count": 0,
      "outputs": []
    },
    {
      "cell_type": "code",
      "metadata": {
        "id": "I1TSrkiIXrva",
        "colab_type": "code",
        "colab": {}
      },
      "source": [
        "from torch.utils.data import DataLoader"
      ],
      "execution_count": 0,
      "outputs": []
    },
    {
      "cell_type": "code",
      "metadata": {
        "id": "NG20PQFnWRaV",
        "colab_type": "code",
        "colab": {}
      },
      "source": [
        "train_dl = DataLoader(train_ds, bs, shuffle=True, drop_last=True)\n",
        "valid_dl = DataLoader(valid_ds, bs, shuffle=False)"
      ],
      "execution_count": 0,
      "outputs": []
    },
    {
      "cell_type": "code",
      "metadata": {
        "id": "dIMDzc0iS9_B",
        "colab_type": "code",
        "colab": {}
      },
      "source": [
        "lr = 0.01\n",
        "opt = torch.optim.SGD(autoencoder2.parameters(), lr=lr)\n",
        "\n",
        "for epoch in range(epochs):\n",
        "\n",
        "  for xb,yb in train_dl:\n",
        "    autoencoder2.train()\n",
        "\n",
        "    loss = F.mse_loss(pred, yb)\n",
        "\n",
        "    loss.backward()\n",
        "    opt.step()\n",
        "    opt.zero_grad()\n",
        "\n",
        "\n",
        "    model.eval()\n",
        "    with torch.no_grad():\n",
        "        tot_loss,tot_acc = 0.,0.\n",
        "        for xb,yb in valid_dl:\n",
        "            pred = model(xb)\n",
        "            tot_loss += loss_func(pred,yb)\n",
        "            tot_acc  += accuracy (pred,yb)\n",
        "        nv = len(valid_dl)\n",
        "        print(epoch, tot_loss/nv, tot_acc/nv)\n"
      ],
      "execution_count": 0,
      "outputs": []
    },
    {
      "cell_type": "code",
      "metadata": {
        "id": "6x7tIwSrMRJg",
        "colab_type": "code",
        "colab": {}
      },
      "source": [
        "#encoded_train_batches = torch.cat([batch.cpu() for batch in encoded_train_batches])\n",
        "#encoded_valid_batches = torch.cat([batch.cpu() for batch in encoded_valid_batches])\n",
        "\n",
        "encoded_train_batches = np.concatenate([batch.cpu().numpy() for batch in encoded_train_batches])\n",
        "encoded_valid_batches = np.concatenate([batch.cpu().numpy() for batch in encoded_valid_batches])"
      ],
      "execution_count": 0,
      "outputs": []
    }
  ]
}