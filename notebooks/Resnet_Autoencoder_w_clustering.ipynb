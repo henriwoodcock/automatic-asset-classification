{
  "nbformat": 4,
  "nbformat_minor": 0,
  "metadata": {
    "colab": {
      "name": "Resnet_Autoencoder_w_clustering.ipynb",
      "provenance": [],
      "collapsed_sections": []
    },
    "kernelspec": {
      "name": "python3",
      "display_name": "Python 3"
    }
  },
  "cells": [
    {
      "cell_type": "code",
      "metadata": {
        "id": "MKuLheGmAzaj",
        "colab_type": "code",
        "colab": {}
      },
      "source": [
        ""
      ],
      "execution_count": 0,
      "outputs": []
    },
    {
      "cell_type": "code",
      "metadata": {
        "id": "_QJNHYOnAkFs",
        "colab_type": "code",
        "colab": {}
      },
      "source": [
        "import torch\n",
        "from torch import nn\n",
        "\n",
        "class encoder(nn.Module):\n",
        "    def __init__(self, model_weights):\n",
        "        super(encoder, self).__init__()\n",
        "\n",
        "        resnet = torch.hub.load('pytorch/vision:v0.5.0', 'resnet34', pretrained = model_weights)\n",
        "        resnet = nn.Sequential(*(list(resnet.children())[0:8]))\n",
        "        if model_weights:\n",
        "            for param in resnet.parameters():\n",
        "                param.requires_grad = False\n",
        "        else:\n",
        "            for param in resnet.parameters():\n",
        "                param.requires_grad = True\n",
        "\n",
        "\n",
        "        self.encoder = nn.Sequential(resnet, model_layers.AdaptiveConcatPool2d(), nn.Flatten())\n",
        "\n",
        "    def encode(self, x): return self.encoder(x)\n",
        "\n",
        "    def forward(self, x):\n",
        "      encoded = self.encoder(x)\n",
        "      return encoded\n",
        "\n",
        "class decoder(nn.Module):\n",
        "    def __init__(self):\n",
        "        super(decoder, self).__init__()\n",
        "\n",
        "        self.bottleneck = nn.Sequential(nn.Linear(1024, 24 * 8 * 8),\n",
        "                                        model_layers.reshape([-1,24,8,8])\n",
        "                                        )\n",
        "\n",
        "        self.up1 = model_layers.Upsample(24,12)\n",
        "        self.up2 = model_layers.Upsample(12,3)\n",
        "\n",
        "    def forward(self,x):\n",
        "        x = self.bottleneck(x)\n",
        "        x = self.up1(x)\n",
        "        x = self.up2(x)\n",
        "        return x\n",
        "\n",
        "class autoencoder(nn.Module):\n",
        "    def __init__(self, model_weights):\n",
        "        super(autoencoder, self).__init__()\n",
        "\n",
        "        self.encoder = encoder(model_weights)\n",
        "        self.decoder = decoder()\n",
        "\n",
        "    def encode(self, x): return self.encoder(x)\n",
        "    def decode(self, x): return torch.clamp(self.decoder(x), min = 0, max = 1)\n",
        "\n",
        "    def forward(self, x):\n",
        "        x = self.encoder(x)\n",
        "        x = self.decoder(x)\n",
        "        return torch.clamp(x, min = 0, max = 1)\n"
      ],
      "execution_count": 0,
      "outputs": []
    }
  ]
}